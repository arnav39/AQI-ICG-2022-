{
  "nbformat": 4,
  "nbformat_minor": 0,
  "metadata": {
    "colab": {
      "provenance": [],
      "collapsed_sections": [
        "bSFA0bvOWIlH",
        "LFoFurtybwDV"
      ],
      "authorship_tag": "ABX9TyPFBhoE5fbHALyHco6Z51gW",
      "include_colab_link": true
    },
    "kernelspec": {
      "name": "python3",
      "display_name": "Python 3"
    },
    "language_info": {
      "name": "python"
    }
  },
  "cells": [
    {
      "cell_type": "markdown",
      "metadata": {
        "id": "view-in-github",
        "colab_type": "text"
      },
      "source": [
        "<a href=\"https://colab.research.google.com/github/arnav39/AQI-ICG-2022-/blob/main/PyTorch_Tutorial/Tut_04.ipynb\" target=\"_parent\"><img src=\"https://colab.research.google.com/assets/colab-badge.svg\" alt=\"Open In Colab\"/></a>"
      ]
    },
    {
      "cell_type": "markdown",
      "source": [
        "# Softmax and Cross entropy loss"
      ],
      "metadata": {
        "id": "bSFA0bvOWIlH"
      }
    },
    {
      "cell_type": "code",
      "execution_count": 1,
      "metadata": {
        "id": "jZssu99jWDaG"
      },
      "outputs": [],
      "source": [
        "import torch \n",
        "import torch.nn as nn\n",
        "import numpy as np"
      ]
    },
    {
      "cell_type": "code",
      "source": [
        "x = torch.ones(5, 4)\n",
        "print(x)\n",
        "print(x.sum(axis=0))"
      ],
      "metadata": {
        "colab": {
          "base_uri": "https://localhost:8080/"
        },
        "id": "1lI38Hv9Wzbz",
        "outputId": "90c0122f-9a42-4793-9332-0ecc6225680a"
      },
      "execution_count": 3,
      "outputs": [
        {
          "output_type": "stream",
          "name": "stdout",
          "text": [
            "tensor([[1., 1., 1., 1.],\n",
            "        [1., 1., 1., 1.],\n",
            "        [1., 1., 1., 1.],\n",
            "        [1., 1., 1., 1.],\n",
            "        [1., 1., 1., 1.]])\n",
            "tensor([5., 5., 5., 5.])\n"
          ]
        }
      ]
    },
    {
      "cell_type": "code",
      "source": [
        "def softmax(x):\n",
        "  return np.exp(x) / np.sum(np.exp(x), axis=0)"
      ],
      "metadata": {
        "id": "I6PGwNESWeJ8"
      },
      "execution_count": 4,
      "outputs": []
    },
    {
      "cell_type": "code",
      "source": [
        "x = np.array([2., 1., 0.1])\n",
        "outputs = softmax(x)\n",
        "print(outputs)"
      ],
      "metadata": {
        "colab": {
          "base_uri": "https://localhost:8080/"
        },
        "id": "MLedIxgMXCYT",
        "outputId": "731c1877-d820-433c-9a64-c500e150169f"
      },
      "execution_count": 7,
      "outputs": [
        {
          "output_type": "stream",
          "name": "stdout",
          "text": [
            "[0.65900114 0.24243297 0.09856589]\n"
          ]
        }
      ]
    },
    {
      "cell_type": "code",
      "source": [
        "x = torch.tensor([2.0, 1.0, 0.1])\n",
        "outputs = torch.softmax(x, dim=0) # compute along first axis\n",
        "print(outputs)"
      ],
      "metadata": {
        "colab": {
          "base_uri": "https://localhost:8080/"
        },
        "id": "PvvsAlpKXUWg",
        "outputId": "4c1073cd-a53e-45f1-b2d5-67e93b7587be"
      },
      "execution_count": 14,
      "outputs": [
        {
          "output_type": "stream",
          "name": "stdout",
          "text": [
            "tensor([0.6590, 0.2424, 0.0986])\n"
          ]
        }
      ]
    },
    {
      "cell_type": "code",
      "source": [
        "def cross_entropy(actual, predicted):\n",
        "  loss = -np.sum(actual * np.log(predicted))\n",
        "  return loss # can divide by number of samples"
      ],
      "metadata": {
        "id": "bSWEI_eFXadO"
      },
      "execution_count": 15,
      "outputs": []
    },
    {
      "cell_type": "code",
      "source": [
        "y = np.array([1, 0, 0])\n",
        "y_pred_good = np.array([0.7, 0.2, 0.1])\n",
        "y_pred_bad = np.array([0.1, 0.6, 0.3])\n",
        "\n",
        "l1 = cross_entropy(y, y_pred_good)\n",
        "l2 = cross_entropy(y, y_pred_bad)\n",
        "print(f\"l1 = {l1:.4f}\")\n",
        "print(f\"l2 = {l2:.4f}\")"
      ],
      "metadata": {
        "colab": {
          "base_uri": "https://localhost:8080/"
        },
        "id": "YwFHXDwOYUhh",
        "outputId": "57c61dd7-d527-4828-e8e4-d9a1f1d73672"
      },
      "execution_count": 18,
      "outputs": [
        {
          "output_type": "stream",
          "name": "stdout",
          "text": [
            "l1 = 0.3567\n",
            "l2 = 2.3026\n"
          ]
        }
      ]
    },
    {
      "cell_type": "code",
      "source": [
        "nn.LogSoftmax??"
      ],
      "metadata": {
        "id": "ZCOHjwslZD-8"
      },
      "execution_count": 19,
      "outputs": []
    },
    {
      "cell_type": "code",
      "source": [
        "nn.NLLLoss??"
      ],
      "metadata": {
        "id": "8yl1nf1GZIZW"
      },
      "execution_count": 20,
      "outputs": []
    },
    {
      "cell_type": "code",
      "source": [
        "# y : should have class labels not one_hot encoding\n",
        "# y_pred :  should have raw scores/logits not probability\n",
        "loss = nn.CrossEntropyLoss()"
      ],
      "metadata": {
        "id": "cvMwkMXfYo2w"
      },
      "execution_count": 21,
      "outputs": []
    },
    {
      "cell_type": "code",
      "source": [
        "y = torch.tensor([0])\n",
        "y_pred_good = torch.tensor([[2.0, 1.0, 0.1]]) # size must be n_samples x n_classes\n",
        "y_pred_bad = torch.tensor([[0.5, 0.9, 0.3]])\n",
        "\n",
        "l1 = loss(y_pred_good, y)\n",
        "l2 = loss(y_pred_bad, y)\n",
        "print(f\"l1 = {l1:.4f}\")\n",
        "print(f\"l2 = {l2:.4f}\")"
      ],
      "metadata": {
        "colab": {
          "base_uri": "https://localhost:8080/"
        },
        "id": "sZXzGApbZmGM",
        "outputId": "0a640bc4-1be3-44e4-a85a-b7c36b923920"
      },
      "execution_count": 24,
      "outputs": [
        {
          "output_type": "stream",
          "name": "stdout",
          "text": [
            "l1 = 0.4170\n",
            "l2 = 1.1971\n"
          ]
        }
      ]
    },
    {
      "cell_type": "code",
      "source": [
        "torch.max??"
      ],
      "metadata": {
        "id": "tmwlJiAHaffE"
      },
      "execution_count": 25,
      "outputs": []
    },
    {
      "cell_type": "code",
      "source": [
        "a = torch.randn(1, 3)\n",
        "b, c = torch.max(a, 1)\n",
        "print(\"b = \", b)\n",
        "print(\"c = \", c) # we just need the index not the value"
      ],
      "metadata": {
        "colab": {
          "base_uri": "https://localhost:8080/"
        },
        "id": "TCrzCrpIamK8",
        "outputId": "0865a254-d30a-4270-b29b-34a3f84dff2b"
      },
      "execution_count": 27,
      "outputs": [
        {
          "output_type": "stream",
          "name": "stdout",
          "text": [
            "b =  tensor([1.1752])\n",
            "c =  tensor([0])\n"
          ]
        }
      ]
    },
    {
      "cell_type": "code",
      "source": [
        "_, predictions1 = torch.max(y_pred_good, 1)\n",
        "_, predictions2 = torch.max(y_pred_bad, 1)\n",
        "\n",
        "print(predictions1)\n",
        "print(predictions2)"
      ],
      "metadata": {
        "colab": {
          "base_uri": "https://localhost:8080/"
        },
        "id": "J4JDQuetaILt",
        "outputId": "9281bf6f-8a5e-4b8b-d33f-ae11b3a4c4f6"
      },
      "execution_count": 28,
      "outputs": [
        {
          "output_type": "stream",
          "name": "stdout",
          "text": [
            "tensor([0])\n",
            "tensor([1])\n"
          ]
        }
      ]
    },
    {
      "cell_type": "code",
      "source": [
        "y = torch.tensor([2, 0, 1])\n",
        "y_pred_good = torch.tensor([[0.1, 1.0, 2.1], [2.4, 0.5, 0.3], [1.3, 5.6, 2.1]])\n",
        "y_pred_bad = torch.tensor([[0.9, 0.1, 0.2], [1., 2., 3.], [5., 7., 9.]])\n",
        "\n",
        "_, predictions1 = torch.max(y_pred_good, 1)\n",
        "_, predictions2 = torch.max(y_pred_bad, 1)\n",
        "\n",
        "print(predictions1)\n",
        "print(predictions2)"
      ],
      "metadata": {
        "colab": {
          "base_uri": "https://localhost:8080/"
        },
        "id": "hrZIQ_cta8ij",
        "outputId": "37c70c23-718c-41aa-ff0b-3debf34f3427"
      },
      "execution_count": 30,
      "outputs": [
        {
          "output_type": "stream",
          "name": "stdout",
          "text": [
            "tensor([2, 0, 1])\n",
            "tensor([0, 2, 2])\n"
          ]
        }
      ]
    },
    {
      "cell_type": "markdown",
      "source": [
        "### Multi-class problem"
      ],
      "metadata": {
        "id": "LFoFurtybwDV"
      }
    },
    {
      "cell_type": "code",
      "source": [
        "class NeuralNet2(nn.Module):\n",
        "  def __init__(self, input_size, hidden_size, num_classes):\n",
        "    super().__init__()\n",
        "    self.linear1 = nn.Linear(input_size, hidden_size) \n",
        "    self.relu = nn.ReLU()\n",
        "    self.linear2 = nn.Linear(hidden_size, num_classes)\n",
        "\n",
        "  def forward(self, X):\n",
        "    out = self.linear1(X)\n",
        "    out = self.relu(out)\n",
        "    out = self.linear2(out)\n",
        "    return out"
      ],
      "metadata": {
        "id": "-hizHRA3bcJ7"
      },
      "execution_count": 31,
      "outputs": []
    },
    {
      "cell_type": "code",
      "source": [
        "model = NeuralNet2(input_size=28*28, hidden_size=5, num_classes=3)\n",
        "criterion = nn.CrossEntropyLoss()"
      ],
      "metadata": {
        "id": "nKDvYqUfcTpQ"
      },
      "execution_count": null,
      "outputs": []
    },
    {
      "cell_type": "markdown",
      "source": [
        "for binary classification we use sigmoid activation function and use BCELoss function"
      ],
      "metadata": {
        "id": "_Y2n-9qwcoeA"
      }
    },
    {
      "cell_type": "code",
      "source": [
        "class NeuralNet1(nn.Module):\n",
        "  def __init__(self, input_size, hidden_size):\n",
        "    super().__init__()\n",
        "    self.linear1 = nn.Linear(input_size, hidden_size)\n",
        "    self.relu = nn.ReLU()\n",
        "    self.linear2 = nn.Linear(hidden_size, 1)\n",
        "\n",
        "  def forward(self, X):\n",
        "    out = self.linear1(X)\n",
        "    out = self.relu(out)\n",
        "    out = self.linear2(out)\n",
        "    y_pred = torch.sigmoid(out)\n",
        "    return y_pred"
      ],
      "metadata": {
        "id": "_-HMgmBVcu-W"
      },
      "execution_count": 40,
      "outputs": []
    },
    {
      "cell_type": "code",
      "source": [
        "model = NeuralNet1(input_size=28*28, hidden_size=5)\n",
        "criterion = nn.BCELoss()"
      ],
      "metadata": {
        "id": "ScFkISnBdUyz"
      },
      "execution_count": 41,
      "outputs": []
    },
    {
      "cell_type": "markdown",
      "source": [
        "# Activation Functions"
      ],
      "metadata": {
        "id": "a_W9xHaaPXQJ"
      }
    },
    {
      "cell_type": "markdown",
      "source": [
        "they apply a non-linear transformation to our layer output"
      ],
      "metadata": {
        "id": "9nJqdJfUPqp-"
      }
    },
    {
      "cell_type": "code",
      "source": [
        "import torch \n",
        "import torch.nn as nn\n",
        "import torch.nn.functional as F"
      ],
      "metadata": {
        "id": "HiT3JVb9dhNN"
      },
      "execution_count": 1,
      "outputs": []
    },
    {
      "cell_type": "code",
      "source": [
        "class NeuralNet(nn.Module):\n",
        "\n",
        "  def __init__(self, input_size, hidden_size):\n",
        "    super().__init__()\n",
        "    self.linear1 = nn.Linear(input_size, hidden_size)\n",
        "    self.relu = nn.ReLU()\n",
        "    self.linear2 = nn.Linear(hidden_size, 1) \n",
        "    self.sigmoid = nn.Sigmoid()\n",
        "\n",
        "  def forward(self, X):\n",
        "    out = self.linear1(X)\n",
        "    out = self.relu(out)\n",
        "    out = self.linear2(out)\n",
        "    out = self.sigmoid(out)\n",
        "    return out\n",
        "\n",
        "  def forward2(self, X): # use activation functions directly in forward pass\n",
        "    out = torch.ReLU(self.linear1(X))\n",
        "    out = torch.sigmoid(self.linear2(out))\n",
        "    return out"
      ],
      "metadata": {
        "id": "neO-IEMNQ-5E"
      },
      "execution_count": 4,
      "outputs": []
    },
    {
      "cell_type": "code",
      "source": [
        "nn.Sigmoid \n",
        "nn.ReLU\n",
        "nn.LeakyReLU\n",
        "nn.Tanh\n",
        "nn.Softmax"
      ],
      "metadata": {
        "id": "_w-hb6IsRkPw"
      },
      "execution_count": null,
      "outputs": []
    },
    {
      "cell_type": "code",
      "source": [
        "F.leaky_relu()"
      ],
      "metadata": {
        "id": "uICB_ryOSNqL"
      },
      "execution_count": null,
      "outputs": []
    }
  ]
}